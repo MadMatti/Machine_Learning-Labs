{
 "cells": [
  {
   "cell_type": "markdown",
   "metadata": {},
   "source": [
    "<h1 style=\"text-align: center;\">Support Vector Machines</h1>"
   ]
  },
  {
   "cell_type": "markdown",
   "metadata": {},
   "source": [
    "The aim of this lab is to get hands-on experience with implementing and using support vector machines"
   ]
  },
  {
   "cell_type": "code",
   "execution_count": 34,
   "metadata": {},
   "outputs": [],
   "source": [
    "import numpy as np\n",
    "from scipy.optimize import minimize\n",
    "from matplotlib import pyplot as plt\n",
    "import random\n",
    "import math\n",
    "import matplotlib.patches as mpatches"
   ]
  },
  {
   "cell_type": "markdown",
   "metadata": {},
   "source": [
    "### Generating Test Data\n",
    "Generation of two-dimensional data, i.e., points in a plane. The data will have the form of N x 2 Array.\n"
   ]
  },
  {
   "cell_type": "code",
   "execution_count": 35,
   "metadata": {},
   "outputs": [],
   "source": [
    "#np.random.seed(100)    # to get the same random numbers\n",
    "\n",
    "classA = np.concatenate(\n",
    "    (np.random.randn(10, 2) * 0.2 + [1.5, 0.5],\n",
    "    np.random.randn(10, 2) * 0.2 + [-1.5, 0.5]))\n",
    "classB = np.random.randn(20, 2) * 0.2 + [0.0, -0.5]\n",
    "\n",
    "inputs = np.concatenate((classA, classB))\n",
    "targets = np.concatenate((np.ones(classA.shape[0]), -np.ones(classB.shape[0])))\n",
    "\n",
    "N = inputs.shape[0]   # Number of rows (samples)\n",
    "\n",
    "permute = list(range(N))\n",
    "random.shuffle(permute)\n",
    "inputs = inputs[permute, :]\n",
    "targets = targets[permute]"
   ]
  },
  {
   "cell_type": "markdown",
   "metadata": {},
   "source": [
    "### Kernels definition"
   ]
  },
  {
   "cell_type": "code",
   "execution_count": 36,
   "metadata": {},
   "outputs": [],
   "source": [
    "def LinearKernel(x, y):\n",
    "    return np.dot(x, y)\n",
    "\n",
    "def PolynomialKernel(x, y, p=3):\n",
    "    '''Optional parameter p controls the degree of the polynomial'''\n",
    "    return (1 + np.dot(x, y)) ** p\n",
    "\n",
    "def RBFKernel(x, y, sigma=1.0):\n",
    "    '''Optional parameter sigma controls the width of the Gaussian'''\n",
    "    return math.exp(-np.linalg.norm(x-y)**2 / (2 * (sigma ** 2)))\n",
    "\n",
    "Kernel = RBFKernel"
   ]
  },
  {
   "cell_type": "markdown",
   "metadata": {},
   "source": [
    "### SVM implementation"
   ]
  },
  {
   "cell_type": "markdown",
   "metadata": {},
   "source": [
    "Generation of the Pmatrix, needed in function `objective`. This matrix is computed outside the function for efficiency reasons."
   ]
  },
  {
   "cell_type": "code",
   "execution_count": 37,
   "metadata": {},
   "outputs": [],
   "source": [
    "Pmatrix = np.zeros((N, N))\n",
    "for i in range(N):\n",
    "    for j in range(N):\n",
    "        Pmatrix[i, j] = targets[i] * targets[j] * Kernel(inputs[i], inputs[j])"
   ]
  },
  {
   "cell_type": "markdown",
   "metadata": {},
   "source": [
    "Implement the function `objective`, which implements the formula needed for the *dual problem* formulation.\n",
    "The dual problem is used since it meakes possible to use the *kernel trick*."
   ]
  },
  {
   "cell_type": "code",
   "execution_count": 38,
   "metadata": {},
   "outputs": [],
   "source": [
    "def objective(alpha):\n",
    "    '''Implement expression (4)'''\n",
    "    return 0.5 * np.dot(alpha, np.dot(alpha, Pmatrix)) - np.sum(alpha)"
   ]
  },
  {
   "cell_type": "markdown",
   "metadata": {},
   "source": [
    "Implement the function `nonzero`, which implements the equality constraint. "
   ]
  },
  {
   "cell_type": "code",
   "execution_count": 39,
   "metadata": {},
   "outputs": [],
   "source": [
    "def zerfun(alpha):\n",
    "    '''Implement expression (10), i.e., the equality constraint'''\n",
    "    return np.dot(alpha, targets)"
   ]
  },
  {
   "cell_type": "markdown",
   "metadata": {},
   "source": [
    "Call the `minimize` function from the `scipy.optimize` package, which will find and return the vector which minimize the function *objective* within the bounds *B* and the constraints *XC* "
   ]
  },
  {
   "cell_type": "code",
   "execution_count": 40,
   "metadata": {},
   "outputs": [],
   "source": [
    "'''Initial guess of alpha'''\n",
    "start = np.zeros(N)\n",
    "\n",
    "'''Set B, i.e., the bounds for alpha vector'''\n",
    "\n",
    "#B = [(0, None) for b in range(N)]  for having only lower bound\n",
    "\n",
    "C = 10000\n",
    "B = [(0, C) for b in range(N)]  # for having both lower and upper bounds\n",
    "\n",
    "'''Set the constraint, in this case the zerofun function. XC is given as a dictionary'''\n",
    "XC = {'type':'eq', 'fun':zerfun}\n",
    "\n",
    "'''Call to minimize function'''\n",
    "ret = minimize(objective, start, bounds=B, constraints=XC)\n",
    "\n",
    "if (not ret['success']):    # success is a Boolean flag indicating if the optimizer exited successfully\n",
    "    raise ValueError('Cannot find optimal solution')\n",
    "\n",
    "alpha = ret['x']    # x is the solution array"
   ]
  },
  {
   "cell_type": "markdown",
   "metadata": {},
   "source": [
    "Only few elements of the alpha vector will be non-zero. Those non-zero values are ours Support Vectors, hence we save them in a separate data structure."
   ]
  },
  {
   "cell_type": "code",
   "execution_count": 41,
   "metadata": {},
   "outputs": [],
   "source": [
    "# extract non-zero alphas\n",
    "\n",
    "nonzero = [(alpha[i], inputs[i], targets[i]) for i in range(N) if abs(alpha[i]) > 1e-5]"
   ]
  },
  {
   "cell_type": "markdown",
   "metadata": {},
   "source": [
    "Calculation of the *b* threshold, needed in the function `indicator`."
   ]
  },
  {
   "cell_type": "code",
   "execution_count": 42,
   "metadata": {},
   "outputs": [],
   "source": [
    "def bvalue():\n",
    "    '''Implement expression (7)'''\n",
    "    sum = 0\n",
    "    for value in nonzero:\n",
    "        sum += value[0] * value[2] * Kernel(value[1], nonzero[0][1])\n",
    "    return sum - nonzero[0][2]"
   ]
  },
  {
   "cell_type": "markdown",
   "metadata": {},
   "source": [
    "Implement the function `indicator`, which classifis new data points."
   ]
  },
  {
   "cell_type": "code",
   "execution_count": 43,
   "metadata": {},
   "outputs": [],
   "source": [
    "def indicator(x, y):\n",
    "    '''Implement expression (6)'''\n",
    "    sum = 0\n",
    "    for value in nonzero:\n",
    "        sum += value[0] * value[2] * Kernel(value[1], [x, y])\n",
    "    return sum - bvalue()"
   ]
  },
  {
   "cell_type": "markdown",
   "metadata": {},
   "source": [
    "Plot the results of the classification. The points are colored according to their class. The Support Vectors are marked with a green cross."
   ]
  },
  {
   "cell_type": "code",
   "execution_count": 44,
   "metadata": {},
   "outputs": [
    {
     "data": {
      "image/png": "[encoded data removed]",
      "text/plain": [
       "<Figure size 640x480 with 1 Axes>"
      ]
     },
     "metadata": {},
     "output_type": "display_data"
    }
   ],
   "source": [
    "# Plot data points\n",
    "\n",
    "plt.plot([p[0] for p in classA], [p[1] for p in classA], 'b.')\n",
    "plt.plot([p[0] for p in classB], [p[1] for p in classB], 'r.')\n",
    "plt.plot([p[1][0] for p in nonzero], [p[1][1] for p in nonzero], 'g+')\n",
    "plt.axis('equal')   # set the axes to the same scale\n",
    "\n",
    "# Plot the decision boundary\n",
    "\n",
    "xgrid = np.linspace(-5, 5)\n",
    "ygrid = np.linspace(-4, 4)\n",
    "grid = np.array([[indicator(x, y) for x in xgrid] for y in ygrid])\n",
    "plt.contour(xgrid, ygrid, grid, (-1.0, 0.0, 1.0), colors=('red', 'black', 'blue'), linewidths=(1, 3, 1))\n",
    "\n",
    "blue_patch = mpatches.Patch(color='blue', label='ClassA')\n",
    "red_patch = mpatches.Patch(color='red', label='ClassB')\n",
    "black_patch = mpatches.Patch(color='black', label='Decision Boundary')\n",
    "plt.legend(handles=[blue_patch, red_patch, black_patch])\n",
    "\n",
    "plt.xlabel('X')\n",
    "plt.ylabel('Y')\n",
    "\n",
    "plt.savefig('resources/svmplot.png')  # save a copy in a file\n",
    "plt.show()"
   ]
  },
  {
   "cell_type": "markdown",
   "metadata": {},
   "source": [
    "### Exploring and Reporting\n",
    "\n",
    "#### Question n.1\n",
    "Move the cluster around and change their sizes to make it easier or harder for the classifier to find a decent boundary. Pay attention to when the optimizer is not able to find a solution at all.  \n",
    "\n",
    "\n",
    "We modify C, which allows more or less slack and the deviation in the data point generation\n",
    "In the following images I used C = 10 and the variance = 0.1,0.2,0.5,0.8\n",
    "\n",
    "C = 10 D = 0.1             |  C = 10 D = 0.2\n",
    ":-------------------------:|:-------------------------:\n",
    "![](resources/C10D0.1.png)  |  ![](resources/C10D0.2.png)\n",
    "C = 10 D = 0.5             |  C = 10 D = 0.8\n",
    "![](resources/C10D0.5.png)  |  ![](resources/C10D0.8.png)\n",
    "\n",
    "\n",
    "The optimizer is not able to find an optimal solution when the data are no more linearly separable, i.e., with high C (few slack allowed) and high deviation in the data generation.\n",
    "\n",
    "#### Question n.2\n",
    "Implement the two non linear kernels. You should be able to classify very hard data sets with these.\n",
    "\n",
    "Polynomial C = 10 D = 0.5             |  RBF C = 10 D = 0.8\n",
    ":-------------------------:|:-------------------------:\n",
    "![](resources/PolyC10D0.5.png)  |  ![](resources/RBFC10D0.8.png)\n",
    "\n",
    "We can see that even these two hard data sets are almost perfectly classified.\n",
    "\n",
    "#### Question n.3\n",
    "The non-linear kernels have parameters; explore how they influence the decision boundary. Reason about this in terms of the bias-variance tradde-off\n",
    "\n",
    "1. Polynomial kernel\n",
    "    - P: grade of the polynomial\n",
    "    - High P: complex curve &#8594; overfitting &#8594; high variance, low bias\n",
    "    - Low P: simple curve &#8594; underfitting &#8594; low variance, high bias\n",
    "\n",
    "2. RBF kernel\n",
    "    - Sigma: smoothness of the boundary\n",
    "    - Low sigma: rough decision boundary &#8594; overfitting &#8594; high variance, low bias\n",
    "    - High sigma: smooth decision boundary &#8594; underfitting &#8594; low variance, high bias\n",
    "\n",
    "Polynomial C = 10 D = 0.5 P = 2             |  Polynomial C = 10 D = 0.5 P = 5\n",
    ":-------------------------:|:-------------------------:\n",
    "![](resources/PolyP2.png)  |  ![](resources/PolyP5.png)\n",
    "RBF C = 10 D = 0.5 sigma = 0.5             |  RBF C = 10 D = 0.5 sigma = 1.0\n",
    "![](resources/RBFS0.3.png)  |  ![](resources/RBFS1.0.png)\n",
    "\n",
    "#### Question n.4\n",
    "Explore the role of the slack parameter C. What happens for very large/small values ?\n",
    "\n",
    "\n",
    "\n",
    "\n",
    "\n",
    "\n"
   ]
  }
 ],
 "metadata": {
  "kernelspec": {
   "display_name": "Python 3.9.12 ('base')",
   "language": "python",
   "name": "python3"
  },
  "language_info": {
   "codemirror_mode": {
    "name": "ipython",
    "version": 3
   },
   "file_extension": ".py",
   "mimetype": "text/x-python",
   "name": "python",
   "nbconvert_exporter": "python",
   "pygments_lexer": "ipython3",
   "version": "3.9.12"
  },
  "orig_nbformat": 4,
  "vscode": {
   "interpreter": {
    "hash": "195db2848eee62c9ff7fd3d4d90ed470b85a4cc6750fa0c207c4e3af1e5ca207"
   }
  }
 },
 "nbformat": 4,
 "nbformat_minor": 2
}
